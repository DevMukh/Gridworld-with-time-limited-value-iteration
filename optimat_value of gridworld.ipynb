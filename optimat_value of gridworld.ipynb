{
 "cells": [
  {
   "cell_type": "code",
   "execution_count": 45,
   "id": "be07371b",
   "metadata": {},
   "outputs": [],
   "source": [
    "def if_(test, result, alternative):\n",
    "    if test:\n",
    "        return result\n",
    "    else:\n",
    "        return alternative\n",
    "import operator\n",
    "\n",
    "def vector_add(a, b):\n",
    "    return tuple(map(operator.add, a, b))"
   ]
  },
  {
   "cell_type": "code",
   "execution_count": 46,
   "id": "0b0eb70e",
   "metadata": {},
   "outputs": [],
   "source": [
    "def update(x, **entries):\n",
    "    if isinstance(x, dict):\n",
    "        x.update(entries)\n",
    "    else:\n",
    "        x.__dict__.update(entries)\n",
    "    return x\n"
   ]
  },
  {
   "cell_type": "code",
   "execution_count": 47,
   "id": "7ee36f41",
   "metadata": {},
   "outputs": [],
   "source": [
    "def turn_left(direction):\n",
    "    return directions[(directions.index(direction) + 1) % len(directions)]\n",
    "\n",
    "def turn_right(direction):\n",
    "    return directions[directions.index(direction) - 1]"
   ]
  },
  {
   "cell_type": "code",
   "execution_count": 48,
   "id": "d34d69f9",
   "metadata": {},
   "outputs": [],
   "source": [
    "directions = [(1, 0), (0,1), (-1, 0), (0, -1)]"
   ]
  },
  {
   "cell_type": "code",
   "execution_count": 49,
   "id": "e666b8c4",
   "metadata": {},
   "outputs": [],
   "source": [
    "class MDP:\n",
    "    def __init__(self, actlist, init, terminals, discount=0.9):\n",
    "        self.init = init\n",
    "        self.actlist = actlist\n",
    "        self.terminals = terminals\n",
    "        self.discount = discount\n",
    "        self.states = set()\n",
    "        self.reward = {}\n",
    "\n",
    "    def R(self, state):\n",
    "        return self.reward[state]\n",
    "\n",
    "    def T(self, state):\n",
    "        print(\"Here we initialize the probability\")\n",
    "\n",
    "    def action(self, state):\n",
    "        if state in self.terminals:\n",
    "            return [None]\n",
    "        else:\n",
    "            return self.actlist\n",
    "\n",
    "class GridMDP(MDP):\n",
    "    def __init__(self, grid, terminals, init=(0, 0), discount=0.9):\n",
    "        directions = [(1, 0), (-1, 0), (0, 1), (0, -1)]  # Assuming four possible directions (up, down, right, left)\n",
    "        grid.reverse()\n",
    "        super().__init__(actlist=directions, init=init, terminals=terminals, discount=discount)\n",
    "        self.grid = grid\n",
    "        self.rows = len(grid)\n",
    "        self.cols = len(grid[0])\n",
    "        for x in range(self.cols):\n",
    "            for y in range(self.rows):\n",
    "                self.reward[x, y] = grid[y][x]\n",
    "                if grid[y][x] is not None:\n",
    "                    self.states.add((x, y))\n",
    "    def display(self,mapping):\n",
    "        return list(reversed([[mapping.get((x,y),None) for x in range(self.cols)] for y in range(self.rows)]))\n",
    "    def go(self, state, function):\n",
    "        state1 = vector_add(state, function)\n",
    "        return if_(state1 in self.states, state1, state)\n",
    "\n",
    "    def T(self, state, action):\n",
    "        if action is None:\n",
    "            return [(0.0, state)]\n",
    "        else:\n",
    "            return [(0.8, self.go(state, action)), (0.1, self.go(state, turn_left(action))), (0.1, self.go(state, turn_right(action)))]\n"
   ]
  },
  {
   "cell_type": "code",
   "execution_count": 50,
   "id": "67c48378",
   "metadata": {},
   "outputs": [],
   "source": [
    "living_reward = 0\n",
    "mdp1 = GridMDP([[living_reward, living_reward, living_reward, +1],\n",
    "                [living_reward, None, living_reward, -1],\n",
    "                [living_reward, living_reward, living_reward, living_reward]],\n",
    "               terminals=[(3, 2), (3, 1)])"
   ]
  },
  {
   "cell_type": "code",
   "execution_count": 61,
   "id": "74196d0b",
   "metadata": {},
   "outputs": [],
   "source": [
    "def optimal_value_iteration(mdp, eplison_value=0.001):\n",
    "   # u_over_time = []\n",
    "    u1 = {s: 0 for s in mdp.states}\n",
    "    R, T, discount = mdp.R, mdp.T, mdp.discount\n",
    "    total_count=0\n",
    "    while True:\n",
    "    #for _ in range(iterations):\n",
    "        delta_val=0\n",
    "        total_count+=1\n",
    "        u = u1.copy()\n",
    "        for s in mdp.states:\n",
    "            if s in mdp.terminals:\n",
    "                u1[s] = R(s)\n",
    "            else:\n",
    "                u1[s] = max([sum([p * (R(s) + discount * u[s1]) for (p, s1) in T(s, a)]) for a in mdp.action(s)])\n",
    "            delta_val=max(delta_val,abs(u1[s]-u[s]))\n",
    "        \n",
    "        if delta_val<eplison_value:\n",
    "            print(\"optimized value\",total_count)\n",
    "            return u"
   ]
  },
  {
   "cell_type": "code",
   "execution_count": 62,
   "id": "ceb3ebfc",
   "metadata": {},
   "outputs": [
    {
     "name": "stdout",
     "output_type": "stream",
     "text": [
      "optimized value 16\n"
     ]
    }
   ],
   "source": [
    "optimze_result = optimal_value_iteration(mdp1)"
   ]
  },
  {
   "cell_type": "code",
   "execution_count": 63,
   "id": "936c1e45",
   "metadata": {},
   "outputs": [
    {
     "name": "stdout",
     "output_type": "stream",
     "text": [
      "[0.6449472665878168, 0.7443794501753827, 0.8477661188408148, 1]\n",
      "[0.5662439726531641, None, 0.5718585829794186, -1]\n",
      "[0.4902998037829586, 0.42987207149041445, 0.4752173643973898, 0.27686990880812257]\n"
     ]
    }
   ],
   "source": [
    "print(*mdp1.display(optimze_result),sep=\"\\n\")"
   ]
  },
  {
   "cell_type": "code",
   "execution_count": 64,
   "id": "ed52ff94",
   "metadata": {},
   "outputs": [],
   "source": [
    "def argmax(seq,fn):\n",
    "    best=seq[0]\n",
    "    bestscore=fn(best)\n",
    "    for x in seq:\n",
    "        x_score=fn(x)\n",
    "        if x_score>bestscore:\n",
    "            best=x\n",
    "            bestscore=x_score\n",
    "    return best"
   ]
  },
  {
   "cell_type": "code",
   "execution_count": 65,
   "id": "560be163",
   "metadata": {},
   "outputs": [
    {
     "data": {
      "text/plain": [
       "'four'"
      ]
     },
     "execution_count": 65,
     "metadata": {},
     "output_type": "execute_result"
    }
   ],
   "source": [
    "argmax([\"123\",\"four\",\"two\"] ,lambda a: len(a))"
   ]
  },
  {
   "cell_type": "code",
   "execution_count": 66,
   "id": "5c89c14e",
   "metadata": {},
   "outputs": [],
   "source": [
    "def exp_minmax(s,a,mdp,u):\n",
    "    R,T,discount=mdp.R , mdp.T ,mdp.discount\n",
    "    li=[]\n",
    "    for (p,s1) in T(s,a):\n",
    "        temp=p*(R(s)+discount*u[s1])\n",
    "        li.append(temp)\n",
    "        return sum(li)"
   ]
  },
  {
   "cell_type": "code",
   "execution_count": 67,
   "id": "3e6f2e27",
   "metadata": {},
   "outputs": [],
   "source": [
    "def policy_extraction(mdp,u):\n",
    "     R,T,discount=mdp.R , mdp.T ,mdp.discount\n",
    "     pi={s:'x' for s in mdp.states}\n",
    "     for s in mdp.states:\n",
    "        if s in mdp.terminals:\n",
    "            pi[s]='x'\n",
    "        else:\n",
    "            temp=argmax(mdp.action(s),lambda a: exp_minmax(s,a,mdp,u))\n",
    "            pi[s]=arrows_direction[temp]\n",
    "     return pi"
   ]
  },
  {
   "cell_type": "code",
   "execution_count": 68,
   "id": "dea12b71",
   "metadata": {},
   "outputs": [
    {
     "name": "stdout",
     "output_type": "stream",
     "text": [
      "{(0, 1): '>', (1, 2): '<', (2, 1): '>', (0, 0): '>', (3, 1): 'x', (2, 0): '>', (3, 0): '^', (0, 2): '<', (2, 2): '<', (1, 0): '^', (3, 2): 'x'}\n"
     ]
    }
   ],
   "source": [
    "print(policy_extraction(mdp1,optimze_result))"
   ]
  },
  {
   "cell_type": "code",
   "execution_count": 71,
   "id": "574ccae8",
   "metadata": {},
   "outputs": [],
   "source": [
    "p=policy_extraction(mdp1,optimze_result)"
   ]
  },
  {
   "cell_type": "code",
   "execution_count": 72,
   "id": "6e13d15d",
   "metadata": {},
   "outputs": [
    {
     "name": "stdout",
     "output_type": "stream",
     "text": [
      "['>', '>', '>', 'x']\n",
      "['^', None, '^', 'x']\n",
      "['^', '<', '^', '<']\n"
     ]
    }
   ],
   "source": [
    "print(*mdp1.display(p),sep=\"\\n\")"
   ]
  },
  {
   "cell_type": "code",
   "execution_count": 70,
   "id": "e4b79e28",
   "metadata": {},
   "outputs": [],
   "source": [
    "arrows_direction={(1, 0):'>', (0,1):'^', (-1, 0):'<', (0, -1):'v'}"
   ]
  },
  {
   "cell_type": "code",
   "execution_count": null,
   "id": "14335d67",
   "metadata": {},
   "outputs": [],
   "source": []
  }
 ],
 "metadata": {
  "kernelspec": {
   "display_name": "Python 3 (ipykernel)",
   "language": "python",
   "name": "python3"
  },
  "language_info": {
   "codemirror_mode": {
    "name": "ipython",
    "version": 3
   },
   "file_extension": ".py",
   "mimetype": "text/x-python",
   "name": "python",
   "nbconvert_exporter": "python",
   "pygments_lexer": "ipython3",
   "version": "3.11.4"
  }
 },
 "nbformat": 4,
 "nbformat_minor": 5
}
