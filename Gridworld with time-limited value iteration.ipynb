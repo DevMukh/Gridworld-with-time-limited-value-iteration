{
 "cells": [
  {
   "cell_type": "code",
   "execution_count": 163,
   "id": "73e443d2",
   "metadata": {},
   "outputs": [],
   "source": [
    "class MDP:\n",
    "    def __init__(self, actlist, init, terminals, discount=0.9):\n",
    "        self.init = init\n",
    "        self.actlist = actlist\n",
    "        self.terminals = terminals\n",
    "        self.discount = discount\n",
    "        self.states = set()\n",
    "        self.reward = {}\n",
    "\n",
    "    def R(self, state):\n",
    "        return self.reward[state]\n",
    "\n",
    "    def T(self, state):\n",
    "        print(\"Here we initialize the probability\")\n",
    "\n",
    "    def action(self, state):\n",
    "        if state in self.terminals:\n",
    "            return [None]\n",
    "        else:\n",
    "            return self.actlist\n",
    "\n",
    "class GridMDP(MDP):\n",
    "    def __init__(self, grid, terminals, init=(0, 0), discount=0.9):\n",
    "        directions = [(1, 0), (-1, 0), (0, 1), (0, -1)]  # Assuming four possible directions (up, down, right, left)\n",
    "        grid.reverse()\n",
    "        super().__init__(actlist=directions, init=init, terminals=terminals, discount=discount)\n",
    "        self.grid = grid\n",
    "        self.rows = len(grid)\n",
    "        self.cols = len(grid[0])\n",
    "        for x in range(self.cols):\n",
    "            for y in range(self.rows):\n",
    "                self.reward[x, y] = grid[y][x]\n",
    "                if grid[y][x] is not None:\n",
    "                    self.states.add((x, y))\n",
    "    def display(self,mapping):\n",
    "        return list(reversed([[mapping.get((x,y),None) for x in range(self.cols)] for y in range(self.rows)]))\n",
    "    def go(self, state, function):\n",
    "        state1 = vector_add(state, function)\n",
    "        return if_(state1 in self.states, state1, state)\n",
    "\n",
    "    def T(self, state, action):\n",
    "        if action is None:\n",
    "            return [(0.0, state)]\n",
    "        else:\n",
    "            return [(0.8, self.go(state, action)), (0.1, self.go(state, turn_left(action))), (0.1, self.go(state, turn_right(action)))]\n"
   ]
  },
  {
   "cell_type": "code",
   "execution_count": 164,
   "id": "3a5dcb4c",
   "metadata": {},
   "outputs": [],
   "source": [
    "def update(x, **entries):\n",
    "    if isinstance(x, dict):\n",
    "        x.update(entries)\n",
    "    else:\n",
    "        x.__dict__.update(entries)\n",
    "    return x\n"
   ]
  },
  {
   "cell_type": "code",
   "execution_count": 165,
   "id": "7a9cb233",
   "metadata": {},
   "outputs": [],
   "source": [
    "def turn_left(direction):\n",
    "    return directions[(directions.index(direction) + 1) % len(directions)]\n",
    "\n",
    "def turn_right(direction):\n",
    "    return directions[directions.index(direction) - 1]"
   ]
  },
  {
   "cell_type": "code",
   "execution_count": 166,
   "id": "1bed5ba8",
   "metadata": {},
   "outputs": [
    {
     "data": {
      "text/plain": [
       "1"
      ]
     },
     "execution_count": 166,
     "metadata": {},
     "output_type": "execute_result"
    }
   ],
   "source": [
    "directions.index((1,0))+1"
   ]
  },
  {
   "cell_type": "code",
   "execution_count": 167,
   "id": "61f710c6",
   "metadata": {},
   "outputs": [],
   "source": [
    "grid = [[1, 2, 3, 4], [5, 6, 7, 8], [9, 10, 11, 12]]"
   ]
  },
  {
   "cell_type": "code",
   "execution_count": 168,
   "id": "34266af5",
   "metadata": {},
   "outputs": [
    {
     "data": {
      "text/plain": [
       "(0, -1)"
      ]
     },
     "execution_count": 168,
     "metadata": {},
     "output_type": "execute_result"
    }
   ],
   "source": [
    "turn_right((1,0))"
   ]
  },
  {
   "cell_type": "code",
   "execution_count": 169,
   "id": "f5e8bde5",
   "metadata": {},
   "outputs": [
    {
     "name": "stdout",
     "output_type": "stream",
     "text": [
      "[9, 10, 11, 12]\n",
      "[5, 6, 7, 8]\n",
      "[1, 2, 3, 4]\n"
     ]
    }
   ],
   "source": [
    "    grid.reverse()\n",
    "    print(*grid,sep=\"\\n\")"
   ]
  },
  {
   "cell_type": "code",
   "execution_count": 170,
   "id": "51e027d8",
   "metadata": {},
   "outputs": [
    {
     "data": {
      "text/plain": [
       "8"
      ]
     },
     "execution_count": 170,
     "metadata": {},
     "output_type": "execute_result"
    }
   ],
   "source": [
    "    grid[1][3]"
   ]
  },
  {
   "cell_type": "code",
   "execution_count": 171,
   "id": "02815738",
   "metadata": {},
   "outputs": [],
   "source": [
    "directions = [(1, 0), (0,1), (-1, 0), (0, -1)]"
   ]
  },
  {
   "cell_type": "code",
   "execution_count": 172,
   "id": "f81da19c",
   "metadata": {},
   "outputs": [],
   "source": [
    "import operator\n",
    "\n",
    "def vector_add(a, b):\n",
    "    return tuple(map(operator.add, a, b))"
   ]
  },
  {
   "cell_type": "code",
   "execution_count": 173,
   "id": "ac834eaf",
   "metadata": {},
   "outputs": [
    {
     "data": {
      "text/plain": [
       "(3, 2)"
      ]
     },
     "execution_count": 173,
     "metadata": {},
     "output_type": "execute_result"
    }
   ],
   "source": [
    "vector_add((2,2),(1,0))"
   ]
  },
  {
   "cell_type": "code",
   "execution_count": 174,
   "id": "ed46517a",
   "metadata": {},
   "outputs": [
    {
     "data": {
      "text/plain": [
       "2"
      ]
     },
     "execution_count": 174,
     "metadata": {},
     "output_type": "execute_result"
    }
   ],
   "source": [
    "grid[2][1]"
   ]
  },
  {
   "cell_type": "code",
   "execution_count": 175,
   "id": "8ef10592",
   "metadata": {},
   "outputs": [
    {
     "data": {
      "text/plain": [
       "7"
      ]
     },
     "execution_count": 175,
     "metadata": {},
     "output_type": "execute_result"
    }
   ],
   "source": [
    "grid[1][2]"
   ]
  },
  {
   "cell_type": "code",
   "execution_count": 176,
   "id": "780dd768",
   "metadata": {},
   "outputs": [],
   "source": [
    "def if_(test, result, alternative):\n",
    "    if test:\n",
    "        return result\n",
    "    else:\n",
    "        return alternative"
   ]
  },
  {
   "cell_type": "code",
   "execution_count": 177,
   "id": "4bde80cd",
   "metadata": {},
   "outputs": [],
   "source": [
    "living_reward = 0\n",
    "mdp1 = GridMDP([[living_reward, living_reward, living_reward, +1],\n",
    "                [living_reward, None, living_reward, -1],\n",
    "                [living_reward, living_reward, living_reward, living_reward]],\n",
    "               terminals=[(3, 2), (3, 1)])"
   ]
  },
  {
   "cell_type": "code",
   "execution_count": 178,
   "id": "5547fd75",
   "metadata": {},
   "outputs": [
    {
     "name": "stdout",
     "output_type": "stream",
     "text": [
      "{(0, 1), (1, 2), (2, 1), (0, 0), (3, 1), (2, 0), (3, 0), (0, 2), (2, 2), (1, 0), (3, 2)}\n"
     ]
    }
   ],
   "source": [
    "print(mdp1.states)"
   ]
  },
  {
   "cell_type": "code",
   "execution_count": 179,
   "id": "e4c87991",
   "metadata": {},
   "outputs": [
    {
     "name": "stdout",
     "output_type": "stream",
     "text": [
      "(1, 0)\n",
      "(-1, 0)\n",
      "(0, 1)\n",
      "(0, -1)\n"
     ]
    }
   ],
   "source": [
    "for a in mdp1.action((2,2)):\n",
    "    print(a)"
   ]
  },
  {
   "cell_type": "code",
   "execution_count": 180,
   "id": "74eec895",
   "metadata": {},
   "outputs": [
    {
     "name": "stdout",
     "output_type": "stream",
     "text": [
      "{(0, 1): 0, (1, 2): 0, (2, 1): 0, (0, 0): 0, (3, 1): 0, (2, 0): 0, (3, 0): 0, (0, 2): 0, (2, 2): 0, (1, 0): 0, (3, 2): 0}\n",
      "{(0, 1): 0, (1, 2): 0, (2, 1): 0, (0, 0): 0, (3, 1): 0, (2, 0): 0, (3, 0): 0, (0, 2): 0, (2, 2): 0, (1, 0): 0, (3, 2): 0}\n",
      "0\n",
      "0\n",
      "0\n",
      "0\n",
      "0\n",
      "0\n",
      "0\n",
      "0\n",
      "0\n",
      "0\n",
      "0\n",
      "0\n"
     ]
    }
   ],
   "source": [
    "u1 = {s: 0 for s in mdp1.states}\n",
    "u = u1.copy()\n",
    "print(u1)\n",
    "print(u)\n",
    "\n",
    "for a in mdp1.action((2, 2)):\n",
    "    for (p, s1) in mdp1.T((2, 2), a):\n",
    "        print(u1[s1])"
   ]
  },
  {
   "cell_type": "code",
   "execution_count": 192,
   "id": "ed577015",
   "metadata": {},
   "outputs": [],
   "source": [
    "def value_iteration(mdp, iterations=9):\n",
    "    u_over_time = []\n",
    "    u1 = {s: 0 for s in mdp.states}\n",
    "    R, T, discount = mdp.R, mdp.T, mdp.discount\n",
    "\n",
    "    for _ in range(iterations):\n",
    "        u = u1.copy()\n",
    "        for s in mdp.states:\n",
    "            if s in mdp.terminals:\n",
    "                u1[s] = R(s)\n",
    "            else:\n",
    "                u1[s] = max([sum([p * (R(s) + discount * u[s1]) for (p, s1) in T(s, a)]) for a in mdp.action(s)])\n",
    "        u_over_time.append(u)\n",
    "    return u_over_time"
   ]
  },
  {
   "cell_type": "code",
   "execution_count": 193,
   "id": "cc758e07",
   "metadata": {},
   "outputs": [],
   "source": [
    "u_over_time = value_iteration(mdp1)"
   ]
  },
  {
   "cell_type": "code",
   "execution_count": 194,
   "id": "cb59f897",
   "metadata": {},
   "outputs": [
    {
     "name": "stdout",
     "output_type": "stream",
     "text": [
      "[(0.8, (3, 2)), (0.1, (2, 2)), (0.1, (2, 1))]\n"
     ]
    }
   ],
   "source": [
    "print(mdp1.T((2,2),(1,0)))"
   ]
  },
  {
   "cell_type": "code",
   "execution_count": 195,
   "id": "33f3521d",
   "metadata": {},
   "outputs": [
    {
     "name": "stdout",
     "output_type": "stream",
     "text": [
      "{(0, 1): 0.0, (1, 2): 0.0, (2, 1): 0.0, (0, 0): 0.0, (3, 1): -1, (2, 0): 0.0, (3, 0): 0.0, (0, 2): 0.0, (2, 2): 0.7200000000000001, (1, 0): 0.0, (3, 2): 1}\n"
     ]
    }
   ],
   "source": [
    "print(u_over_time[2])"
   ]
  },
  {
   "cell_type": "code",
   "execution_count": 196,
   "id": "d59a9720",
   "metadata": {},
   "outputs": [
    {
     "name": "stdout",
     "output_type": "stream",
     "text": [
      "{(0, 1): 0.0, (1, 2): 0.0, (2, 1): 0.0, (0, 0): 0.0, (3, 1): -1, (2, 0): 0.0, (3, 0): 0.0, (0, 2): 0.0, (2, 2): 0.0, (1, 0): 0.0, (3, 2): 1}\n"
     ]
    }
   ],
   "source": [
    "print(u_over_time[1])"
   ]
  },
  {
   "cell_type": "code",
   "execution_count": 199,
   "id": "f6607984",
   "metadata": {},
   "outputs": [
    {
     "name": "stdout",
     "output_type": "stream",
     "text": [
      "[0.3732480000000001, 0.6583680000000002, 0.8291880000000001, 1]\n",
      "[0.0, None, 0.5136120000000002, -1]\n",
      "[0.0, 0.0, 0.30844800000000006, 0.0]\n"
     ]
    }
   ],
   "source": [
    "print(*mdp1.display(u_over_time[4]),sep=\"\\n\")"
   ]
  },
  {
   "cell_type": "code",
   "execution_count": 187,
   "id": "73807bc1",
   "metadata": {},
   "outputs": [
    {
     "name": "stdout",
     "output_type": "stream",
     "text": [
      "0.0\n",
      "0.0\n",
      "0.0\n",
      "0.0\n",
      "None\n",
      "0.0\n",
      "0.0\n",
      "0.0\n",
      "0.0\n",
      "None\n",
      "None\n",
      "None\n"
     ]
    }
   ],
   "source": [
    "for y in range(mdp1.cols):\n",
    "    for x in range(mdp1.rows):\n",
    "        print(u_over_time[1].get((x,y),None))"
   ]
  },
  {
   "cell_type": "code",
   "execution_count": null,
   "id": "45c1e88e",
   "metadata": {},
   "outputs": [],
   "source": []
  },
  {
   "cell_type": "code",
   "execution_count": null,
   "id": "de845410",
   "metadata": {},
   "outputs": [],
   "source": []
  }
 ],
 "metadata": {
  "kernelspec": {
   "display_name": "Python 3 (ipykernel)",
   "language": "python",
   "name": "python3"
  },
  "language_info": {
   "codemirror_mode": {
    "name": "ipython",
    "version": 3
   },
   "file_extension": ".py",
   "mimetype": "text/x-python",
   "name": "python",
   "nbconvert_exporter": "python",
   "pygments_lexer": "ipython3",
   "version": "3.11.4"
  }
 },
 "nbformat": 4,
 "nbformat_minor": 5
}
